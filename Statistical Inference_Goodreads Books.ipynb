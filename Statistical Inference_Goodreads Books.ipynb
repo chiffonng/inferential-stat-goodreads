{
 "cells": [
  {
   "cell_type": "markdown",
   "metadata": {},
   "source": [
    "# Introduction\n",
    "When searching for potential reads on Goodreads, title and average rating are among the first factors book lovers look at. This report aims to explore their connections, specifically whether books with different titles’ lengths receive different ratings. Because most Goodreads books are published in English, the analysis narrows down to answer the question: \n",
    "\n",
    "> Is there any significant evidence that English long-titled books on Goodreads accumulate different ratings from short-titled ones? \n",
    "    \n",
    "By performing **a difference of mean test and constructing confidence intervals**, the report provides some insights into the performance of English books on Goodreads by their title lengths.\n",
    "\n",
    "See hypotheses below."
   ]
  },
  {
   "cell_type": "markdown",
   "metadata": {},
   "source": [
    "# Dataset\n",
    "The analysis uses a random sample of 200 books from the “Goodreads-books” dataset on Kaggle (Dasgupta, 2020). The original dataset contains over 10,000 Goodreads books, listing their titles, authors, language code, and average rating. The 200-book sample inherits these variables. "
   ]
  },
  {
   "cell_type": "markdown",
   "metadata": {},
   "source": [
    "## Cleaning & Preparing Data"
   ]
  },
  {
   "cell_type": "code",
   "execution_count": 1,
   "metadata": {},
   "outputs": [
    {
     "data": {
      "text/html": [
       "<div>\n",
       "<style scoped>\n",
       "    .dataframe tbody tr th:only-of-type {\n",
       "        vertical-align: middle;\n",
       "    }\n",
       "\n",
       "    .dataframe tbody tr th {\n",
       "        vertical-align: top;\n",
       "    }\n",
       "\n",
       "    .dataframe thead th {\n",
       "        text-align: right;\n",
       "    }\n",
       "</style>\n",
       "<table border=\"1\" class=\"dataframe\">\n",
       "  <thead>\n",
       "    <tr style=\"text-align: right;\">\n",
       "      <th></th>\n",
       "      <th>bookID</th>\n",
       "      <th>title</th>\n",
       "      <th>authors</th>\n",
       "      <th>average_rating</th>\n",
       "      <th>isbn</th>\n",
       "      <th>isbn13</th>\n",
       "      <th>language_code</th>\n",
       "      <th>num_pages</th>\n",
       "      <th>ratings_count</th>\n",
       "      <th>text_reviews_count</th>\n",
       "      <th>publication_date</th>\n",
       "      <th>publisher</th>\n",
       "    </tr>\n",
       "  </thead>\n",
       "  <tbody>\n",
       "    <tr>\n",
       "      <th>0</th>\n",
       "      <td>157</td>\n",
       "      <td>Anna Karenina</td>\n",
       "      <td>Leo Tolstoy/Constance Garnett/Amy Mandelker</td>\n",
       "      <td>4.05</td>\n",
       "      <td>1593081774</td>\n",
       "      <td>9781593081775</td>\n",
       "      <td>eng</td>\n",
       "      <td>803</td>\n",
       "      <td>303</td>\n",
       "      <td>48</td>\n",
       "      <td>8/26/2004</td>\n",
       "      <td>Barnes &amp; Noble</td>\n",
       "    </tr>\n",
       "    <tr>\n",
       "      <th>1</th>\n",
       "      <td>570</td>\n",
       "      <td>HTML XHTML and CSS (Visual Quickstart Guide)</td>\n",
       "      <td>Elizabeth Castro</td>\n",
       "      <td>3.80</td>\n",
       "      <td>321430840</td>\n",
       "      <td>9780321430847</td>\n",
       "      <td>en-US</td>\n",
       "      <td>456</td>\n",
       "      <td>549</td>\n",
       "      <td>42</td>\n",
       "      <td>8/1/2006</td>\n",
       "      <td>Peachpit Press</td>\n",
       "    </tr>\n",
       "    <tr>\n",
       "      <th>2</th>\n",
       "      <td>848</td>\n",
       "      <td>No Price Too High: A Pentecostal Preacher Beco...</td>\n",
       "      <td>Alex C. Jones/Diane M. Hanson/Stephen K. Ray</td>\n",
       "      <td>4.27</td>\n",
       "      <td>898709199</td>\n",
       "      <td>9780898709193</td>\n",
       "      <td>en-GB</td>\n",
       "      <td>259</td>\n",
       "      <td>51</td>\n",
       "      <td>7</td>\n",
       "      <td>4/30/2006</td>\n",
       "      <td>Ignatius Press</td>\n",
       "    </tr>\n",
       "    <tr>\n",
       "      <th>3</th>\n",
       "      <td>866</td>\n",
       "      <td>Fullmetal Alchemist Vol. 9 (Fullmetal Alchemis...</td>\n",
       "      <td>Hiromu Arakawa/Akira Watanabe</td>\n",
       "      <td>4.57</td>\n",
       "      <td>142150460X</td>\n",
       "      <td>9781421504605</td>\n",
       "      <td>eng</td>\n",
       "      <td>192</td>\n",
       "      <td>9013</td>\n",
       "      <td>153</td>\n",
       "      <td>9/19/2006</td>\n",
       "      <td>VIZ Media LLC</td>\n",
       "    </tr>\n",
       "    <tr>\n",
       "      <th>4</th>\n",
       "      <td>870</td>\n",
       "      <td>Fullmetal Alchemist Vol. 1 (Fullmetal Alchemis...</td>\n",
       "      <td>Hiromu Arakawa/Akira Watanabe</td>\n",
       "      <td>4.50</td>\n",
       "      <td>1591169208</td>\n",
       "      <td>9781591169208</td>\n",
       "      <td>eng</td>\n",
       "      <td>192</td>\n",
       "      <td>111091</td>\n",
       "      <td>1427</td>\n",
       "      <td>5/3/2005</td>\n",
       "      <td>VIZ Media LLC</td>\n",
       "    </tr>\n",
       "    <tr>\n",
       "      <th>...</th>\n",
       "      <td>...</td>\n",
       "      <td>...</td>\n",
       "      <td>...</td>\n",
       "      <td>...</td>\n",
       "      <td>...</td>\n",
       "      <td>...</td>\n",
       "      <td>...</td>\n",
       "      <td>...</td>\n",
       "      <td>...</td>\n",
       "      <td>...</td>\n",
       "      <td>...</td>\n",
       "      <td>...</td>\n",
       "    </tr>\n",
       "    <tr>\n",
       "      <th>195</th>\n",
       "      <td>44790</td>\n",
       "      <td>Lo único que no podrás hacer en el cielo</td>\n",
       "      <td>Mark Cahill</td>\n",
       "      <td>4.13</td>\n",
       "      <td>964366568</td>\n",
       "      <td>9780964366565</td>\n",
       "      <td>spa</td>\n",
       "      <td>255</td>\n",
       "      <td>15</td>\n",
       "      <td>0</td>\n",
       "      <td>3/1/2007</td>\n",
       "      <td>Mark Cahill Ministries</td>\n",
       "    </tr>\n",
       "    <tr>\n",
       "      <th>196</th>\n",
       "      <td>45101</td>\n",
       "      <td>The Mad Ship (Liveship Traders #2)</td>\n",
       "      <td>Robin Hobb</td>\n",
       "      <td>4.23</td>\n",
       "      <td>6498868</td>\n",
       "      <td>9780006498865</td>\n",
       "      <td>eng</td>\n",
       "      <td>906</td>\n",
       "      <td>38753</td>\n",
       "      <td>893</td>\n",
       "      <td>2/4/2008</td>\n",
       "      <td>Harper Voyager</td>\n",
       "    </tr>\n",
       "    <tr>\n",
       "      <th>197</th>\n",
       "      <td>45455</td>\n",
       "      <td>Artemis Fowl (Artemis Fowl #1)</td>\n",
       "      <td>Eoin Colfer/Ana Alcaina</td>\n",
       "      <td>3.84</td>\n",
       "      <td>8497939204</td>\n",
       "      <td>9788497939201</td>\n",
       "      <td>spa</td>\n",
       "      <td>286</td>\n",
       "      <td>45</td>\n",
       "      <td>3</td>\n",
       "      <td>3/30/2006</td>\n",
       "      <td>DEBOLS!LLO</td>\n",
       "    </tr>\n",
       "    <tr>\n",
       "      <th>198</th>\n",
       "      <td>45604</td>\n",
       "      <td>Narraciones Extraordinarias</td>\n",
       "      <td>Edgar Allan Poe</td>\n",
       "      <td>4.13</td>\n",
       "      <td>9583006408</td>\n",
       "      <td>9789583006401</td>\n",
       "      <td>spa</td>\n",
       "      <td>316</td>\n",
       "      <td>36</td>\n",
       "      <td>4</td>\n",
       "      <td>6/1/2004</td>\n",
       "      <td>Panamericana Editorial</td>\n",
       "    </tr>\n",
       "    <tr>\n",
       "      <th>199</th>\n",
       "      <td>45641</td>\n",
       "      <td>Las aventuras de Tom Sawyer</td>\n",
       "      <td>Mark Twain</td>\n",
       "      <td>3.91</td>\n",
       "      <td>8497646983</td>\n",
       "      <td>9788497646987</td>\n",
       "      <td>spa</td>\n",
       "      <td>272</td>\n",
       "      <td>113</td>\n",
       "      <td>12</td>\n",
       "      <td>5/28/2006</td>\n",
       "      <td>Edimat Libros</td>\n",
       "    </tr>\n",
       "  </tbody>\n",
       "</table>\n",
       "<p>200 rows × 12 columns</p>\n",
       "</div>"
      ],
      "text/plain": [
       "     bookID                                              title  \\\n",
       "0       157                                      Anna Karenina   \n",
       "1       570       HTML XHTML and CSS (Visual Quickstart Guide)   \n",
       "2       848  No Price Too High: A Pentecostal Preacher Beco...   \n",
       "3       866  Fullmetal Alchemist Vol. 9 (Fullmetal Alchemis...   \n",
       "4       870  Fullmetal Alchemist Vol. 1 (Fullmetal Alchemis...   \n",
       "..      ...                                                ...   \n",
       "195   44790           Lo único que no podrás hacer en el cielo   \n",
       "196   45101                 The Mad Ship (Liveship Traders #2)   \n",
       "197   45455                     Artemis Fowl (Artemis Fowl #1)   \n",
       "198   45604                        Narraciones Extraordinarias   \n",
       "199   45641                        Las aventuras de Tom Sawyer   \n",
       "\n",
       "                                          authors  average_rating        isbn  \\\n",
       "0     Leo Tolstoy/Constance Garnett/Amy Mandelker            4.05  1593081774   \n",
       "1                                Elizabeth Castro            3.80   321430840   \n",
       "2    Alex C. Jones/Diane M. Hanson/Stephen K. Ray            4.27   898709199   \n",
       "3                   Hiromu Arakawa/Akira Watanabe            4.57  142150460X   \n",
       "4                   Hiromu Arakawa/Akira Watanabe            4.50  1591169208   \n",
       "..                                            ...             ...         ...   \n",
       "195                                   Mark Cahill            4.13   964366568   \n",
       "196                                    Robin Hobb            4.23     6498868   \n",
       "197                       Eoin Colfer/Ana Alcaina            3.84  8497939204   \n",
       "198                               Edgar Allan Poe            4.13  9583006408   \n",
       "199                                    Mark Twain            3.91  8497646983   \n",
       "\n",
       "            isbn13 language_code  num_pages  ratings_count  \\\n",
       "0    9781593081775           eng        803            303   \n",
       "1    9780321430847         en-US        456            549   \n",
       "2    9780898709193         en-GB        259             51   \n",
       "3    9781421504605           eng        192           9013   \n",
       "4    9781591169208           eng        192         111091   \n",
       "..             ...           ...        ...            ...   \n",
       "195  9780964366565           spa        255             15   \n",
       "196  9780006498865           eng        906          38753   \n",
       "197  9788497939201           spa        286             45   \n",
       "198  9789583006401           spa        316             36   \n",
       "199  9788497646987           spa        272            113   \n",
       "\n",
       "     text_reviews_count publication_date               publisher  \n",
       "0                    48        8/26/2004          Barnes & Noble  \n",
       "1                    42         8/1/2006          Peachpit Press  \n",
       "2                     7        4/30/2006          Ignatius Press  \n",
       "3                   153        9/19/2006           VIZ Media LLC  \n",
       "4                  1427         5/3/2005           VIZ Media LLC  \n",
       "..                  ...              ...                     ...  \n",
       "195                   0         3/1/2007  Mark Cahill Ministries  \n",
       "196                 893         2/4/2008          Harper Voyager  \n",
       "197                   3        3/30/2006              DEBOLS!LLO  \n",
       "198                   4         6/1/2004  Panamericana Editorial  \n",
       "199                  12        5/28/2006           Edimat Libros  \n",
       "\n",
       "[200 rows x 12 columns]"
      ]
     },
     "execution_count": 1,
     "metadata": {},
     "output_type": "execute_result"
    }
   ],
   "source": [
    "import pandas as pd\n",
    "import numpy as np\n",
    "import matplotlib.pyplot as plt\n",
    "from scipy import stats\n",
    "\n",
    "data = pd.read_csv('sampled-books.csv')\n",
    "data"
   ]
  },
  {
   "cell_type": "markdown",
   "metadata": {},
   "source": [
    "### Filter out non-English books\n",
    "\n",
    "Because the question only concerns English books, 11 non-English titles are filtered using `language_code`. "
   ]
  },
  {
   "cell_type": "code",
   "execution_count": 2,
   "metadata": {},
   "outputs": [
    {
     "data": {
      "text/plain": [
       "['eng', 'en-US', 'en-GB', 'jpn', 'rus', 'fre', 'zho', 'spa']"
      ]
     },
     "execution_count": 2,
     "metadata": {},
     "output_type": "execute_result"
    }
   ],
   "source": [
    "#get available languages of books for this dataset \n",
    "\n",
    "langs = list(data.language_code.unique())\n",
    "langs"
   ]
  },
  {
   "cell_type": "code",
   "execution_count": 3,
   "metadata": {},
   "outputs": [
    {
     "name": "stdout",
     "output_type": "stream",
     "text": [
      "(189, 12)\n"
     ]
    }
   ],
   "source": [
    "#filter only English titles\n",
    "\n",
    "eng_lang = langs[:3]\n",
    "eng_data = data[data[\"language_code\"].isin(eng_lang)].reset_index(drop = True)\n",
    "print(eng_data.shape) #-> successfully filter 11 non-English titles (num of row drops from 200 to 189)"
   ]
  },
  {
   "cell_type": "markdown",
   "metadata": {},
   "source": [
    "### Drop duplicates\n",
    "Duplicates are removed if they have the same ISBN13 and ISBN, unique identifiers for books. "
   ]
  },
  {
   "cell_type": "code",
   "execution_count": 4,
   "metadata": {},
   "outputs": [
    {
     "name": "stdout",
     "output_type": "stream",
     "text": [
      "(189, 12)\n"
     ]
    }
   ],
   "source": [
    "#drop duplicates based on ISBN13 - unique identifier of books. \n",
    "#keep the last book among duplicates\n",
    "\n",
    "unique_eng_data = eng_data.drop_duplicates(subset = ['isbn13', 'isbn'], \n",
    "                                           keep = 'last').reset_index(drop = True)\n",
    "print(unique_eng_data.shape)"
   ]
  },
  {
   "cell_type": "markdown",
   "metadata": {},
   "source": [
    "### Calculate the length of book titles"
   ]
  },
  {
   "cell_type": "code",
   "execution_count": 5,
   "metadata": {},
   "outputs": [
    {
     "data": {
      "text/html": [
       "<div>\n",
       "<style scoped>\n",
       "    .dataframe tbody tr th:only-of-type {\n",
       "        vertical-align: middle;\n",
       "    }\n",
       "\n",
       "    .dataframe tbody tr th {\n",
       "        vertical-align: top;\n",
       "    }\n",
       "\n",
       "    .dataframe thead th {\n",
       "        text-align: right;\n",
       "    }\n",
       "</style>\n",
       "<table border=\"1\" class=\"dataframe\">\n",
       "  <thead>\n",
       "    <tr style=\"text-align: right;\">\n",
       "      <th></th>\n",
       "      <th>title</th>\n",
       "      <th>average_rating</th>\n",
       "    </tr>\n",
       "  </thead>\n",
       "  <tbody>\n",
       "    <tr>\n",
       "      <th>0</th>\n",
       "      <td>Anna Karenina</td>\n",
       "      <td>4.05</td>\n",
       "    </tr>\n",
       "    <tr>\n",
       "      <th>1</th>\n",
       "      <td>HTML XHTML and CSS (Visual Quickstart Guide)</td>\n",
       "      <td>3.80</td>\n",
       "    </tr>\n",
       "    <tr>\n",
       "      <th>2</th>\n",
       "      <td>No Price Too High: A Pentecostal Preacher Beco...</td>\n",
       "      <td>4.27</td>\n",
       "    </tr>\n",
       "    <tr>\n",
       "      <th>3</th>\n",
       "      <td>Fullmetal Alchemist Vol. 9 (Fullmetal Alchemis...</td>\n",
       "      <td>4.57</td>\n",
       "    </tr>\n",
       "    <tr>\n",
       "      <th>4</th>\n",
       "      <td>Fullmetal Alchemist Vol. 1 (Fullmetal Alchemis...</td>\n",
       "      <td>4.50</td>\n",
       "    </tr>\n",
       "  </tbody>\n",
       "</table>\n",
       "</div>"
      ],
      "text/plain": [
       "                                               title  average_rating\n",
       "0                                      Anna Karenina            4.05\n",
       "1       HTML XHTML and CSS (Visual Quickstart Guide)            3.80\n",
       "2  No Price Too High: A Pentecostal Preacher Beco...            4.27\n",
       "3  Fullmetal Alchemist Vol. 9 (Fullmetal Alchemis...            4.57\n",
       "4  Fullmetal Alchemist Vol. 1 (Fullmetal Alchemis...            4.50"
      ]
     },
     "execution_count": 5,
     "metadata": {},
     "output_type": "execute_result"
    }
   ],
   "source": [
    "#create a new dataframe based on title & average_rating only\n",
    "df = unique_eng_data.iloc[:, [1, 3]] \n",
    "df.head()"
   ]
  },
  {
   "cell_type": "code",
   "execution_count": 6,
   "metadata": {},
   "outputs": [
    {
     "data": {
      "text/html": [
       "<div>\n",
       "<style scoped>\n",
       "    .dataframe tbody tr th:only-of-type {\n",
       "        vertical-align: middle;\n",
       "    }\n",
       "\n",
       "    .dataframe tbody tr th {\n",
       "        vertical-align: top;\n",
       "    }\n",
       "\n",
       "    .dataframe thead th {\n",
       "        text-align: right;\n",
       "    }\n",
       "</style>\n",
       "<table border=\"1\" class=\"dataframe\">\n",
       "  <thead>\n",
       "    <tr style=\"text-align: right;\">\n",
       "      <th></th>\n",
       "      <th>title</th>\n",
       "      <th>title_length</th>\n",
       "      <th>average_rating</th>\n",
       "    </tr>\n",
       "  </thead>\n",
       "  <tbody>\n",
       "    <tr>\n",
       "      <th>0</th>\n",
       "      <td>Anna Karenina</td>\n",
       "      <td>2</td>\n",
       "      <td>4.05</td>\n",
       "    </tr>\n",
       "    <tr>\n",
       "      <th>1</th>\n",
       "      <td>HTML XHTML and CSS (Visual Quickstart Guide)</td>\n",
       "      <td>7</td>\n",
       "      <td>3.80</td>\n",
       "    </tr>\n",
       "    <tr>\n",
       "      <th>2</th>\n",
       "      <td>No Price Too High: A Pentecostal Preacher Beco...</td>\n",
       "      <td>21</td>\n",
       "      <td>4.27</td>\n",
       "    </tr>\n",
       "    <tr>\n",
       "      <th>3</th>\n",
       "      <td>Fullmetal Alchemist Vol. 9 (Fullmetal Alchemis...</td>\n",
       "      <td>7</td>\n",
       "      <td>4.57</td>\n",
       "    </tr>\n",
       "    <tr>\n",
       "      <th>4</th>\n",
       "      <td>Fullmetal Alchemist Vol. 1 (Fullmetal Alchemis...</td>\n",
       "      <td>7</td>\n",
       "      <td>4.50</td>\n",
       "    </tr>\n",
       "    <tr>\n",
       "      <th>...</th>\n",
       "      <td>...</td>\n",
       "      <td>...</td>\n",
       "      <td>...</td>\n",
       "    </tr>\n",
       "    <tr>\n",
       "      <th>184</th>\n",
       "      <td>The Drifters</td>\n",
       "      <td>2</td>\n",
       "      <td>4.04</td>\n",
       "    </tr>\n",
       "    <tr>\n",
       "      <th>185</th>\n",
       "      <td>A Long Way Gone: Memoirs of a Boy Soldier</td>\n",
       "      <td>9</td>\n",
       "      <td>4.16</td>\n",
       "    </tr>\n",
       "    <tr>\n",
       "      <th>186</th>\n",
       "      <td>True Blue: The Oxford Boat Race Mutiny</td>\n",
       "      <td>7</td>\n",
       "      <td>4.24</td>\n",
       "    </tr>\n",
       "    <tr>\n",
       "      <th>187</th>\n",
       "      <td>The Roald Dahl Omnibus: Perfect Bedtime Storie...</td>\n",
       "      <td>10</td>\n",
       "      <td>4.35</td>\n",
       "    </tr>\n",
       "    <tr>\n",
       "      <th>188</th>\n",
       "      <td>The Mad Ship (Liveship Traders #2)</td>\n",
       "      <td>6</td>\n",
       "      <td>4.23</td>\n",
       "    </tr>\n",
       "  </tbody>\n",
       "</table>\n",
       "<p>189 rows × 3 columns</p>\n",
       "</div>"
      ],
      "text/plain": [
       "                                                 title  title_length  \\\n",
       "0                                        Anna Karenina             2   \n",
       "1         HTML XHTML and CSS (Visual Quickstart Guide)             7   \n",
       "2    No Price Too High: A Pentecostal Preacher Beco...            21   \n",
       "3    Fullmetal Alchemist Vol. 9 (Fullmetal Alchemis...             7   \n",
       "4    Fullmetal Alchemist Vol. 1 (Fullmetal Alchemis...             7   \n",
       "..                                                 ...           ...   \n",
       "184                                       The Drifters             2   \n",
       "185          A Long Way Gone: Memoirs of a Boy Soldier             9   \n",
       "186             True Blue: The Oxford Boat Race Mutiny             7   \n",
       "187  The Roald Dahl Omnibus: Perfect Bedtime Storie...            10   \n",
       "188                 The Mad Ship (Liveship Traders #2)             6   \n",
       "\n",
       "     average_rating  \n",
       "0              4.05  \n",
       "1              3.80  \n",
       "2              4.27  \n",
       "3              4.57  \n",
       "4              4.50  \n",
       "..              ...  \n",
       "184            4.04  \n",
       "185            4.16  \n",
       "186            4.24  \n",
       "187            4.35  \n",
       "188            4.23  \n",
       "\n",
       "[189 rows x 3 columns]"
      ]
     },
     "execution_count": 6,
     "metadata": {},
     "output_type": "execute_result"
    }
   ],
   "source": [
    "#insert a new column in df for title_length variable\n",
    "\n",
    "def get_length(string): #calculate the number of words in a title\n",
    "    word_lst = string.split(\" \")\n",
    "    return int(len(word_lst))\n",
    "\n",
    "title_leng = [get_length(title) for title in list(df.title)]\n",
    "\n",
    "#insert a new column as the second column in the dataframe\n",
    "df.insert(1, \"title_length\", title_leng, True)\n",
    "df"
   ]
  },
  {
   "cell_type": "markdown",
   "metadata": {},
   "source": [
    "# Sample Summary Statistics"
   ]
  },
  {
   "cell_type": "code",
   "execution_count": 7,
   "metadata": {},
   "outputs": [],
   "source": [
    "def roundn(num):\n",
    "    return round(num, 4)"
   ]
  },
  {
   "cell_type": "code",
   "execution_count": 8,
   "metadata": {},
   "outputs": [
    {
     "data": {
      "text/html": [
       "<div>\n",
       "<style scoped>\n",
       "    .dataframe tbody tr th:only-of-type {\n",
       "        vertical-align: middle;\n",
       "    }\n",
       "\n",
       "    .dataframe tbody tr th {\n",
       "        vertical-align: top;\n",
       "    }\n",
       "\n",
       "    .dataframe thead th {\n",
       "        text-align: right;\n",
       "    }\n",
       "</style>\n",
       "<table border=\"1\" class=\"dataframe\">\n",
       "  <thead>\n",
       "    <tr style=\"text-align: right;\">\n",
       "      <th></th>\n",
       "      <th>title_length</th>\n",
       "      <th>average_rating</th>\n",
       "    </tr>\n",
       "  </thead>\n",
       "  <tbody>\n",
       "    <tr>\n",
       "      <th>count</th>\n",
       "      <td>189.0000</td>\n",
       "      <td>189.0000</td>\n",
       "    </tr>\n",
       "    <tr>\n",
       "      <th>mean</th>\n",
       "      <td>6.0212</td>\n",
       "      <td>3.9425</td>\n",
       "    </tr>\n",
       "    <tr>\n",
       "      <th>std</th>\n",
       "      <td>3.5204</td>\n",
       "      <td>0.2917</td>\n",
       "    </tr>\n",
       "    <tr>\n",
       "      <th>min</th>\n",
       "      <td>1.0000</td>\n",
       "      <td>2.5500</td>\n",
       "    </tr>\n",
       "    <tr>\n",
       "      <th>25%</th>\n",
       "      <td>3.0000</td>\n",
       "      <td>3.7900</td>\n",
       "    </tr>\n",
       "    <tr>\n",
       "      <th>50%</th>\n",
       "      <td>6.0000</td>\n",
       "      <td>3.9800</td>\n",
       "    </tr>\n",
       "    <tr>\n",
       "      <th>75%</th>\n",
       "      <td>8.0000</td>\n",
       "      <td>4.1100</td>\n",
       "    </tr>\n",
       "    <tr>\n",
       "      <th>max</th>\n",
       "      <td>21.0000</td>\n",
       "      <td>4.5700</td>\n",
       "    </tr>\n",
       "  </tbody>\n",
       "</table>\n",
       "</div>"
      ],
      "text/plain": [
       "       title_length  average_rating\n",
       "count      189.0000        189.0000\n",
       "mean         6.0212          3.9425\n",
       "std          3.5204          0.2917\n",
       "min          1.0000          2.5500\n",
       "25%          3.0000          3.7900\n",
       "50%          6.0000          3.9800\n",
       "75%          8.0000          4.1100\n",
       "max         21.0000          4.5700"
      ]
     },
     "execution_count": 8,
     "metadata": {},
     "output_type": "execute_result"
    }
   ],
   "source": [
    "#get summary statistics for columns with numeric values in df (title_length & average_rating)\n",
    "sample_stats_df = roundn(df.describe())\n",
    "sample_stats_df"
   ]
  },
  {
   "cell_type": "code",
   "execution_count": 9,
   "metadata": {},
   "outputs": [
    {
     "name": "stdout",
     "output_type": "stream",
     "text": [
      "Mode: 3\n"
     ]
    },
    {
     "data": {
      "image/png": "[encoded data removed]",
      "text/plain": [
       "<Figure size 432x288 with 1 Axes>"
      ]
     },
     "metadata": {
      "needs_background": "light"
     },
     "output_type": "display_data"
    }
   ],
   "source": [
    "#draw sample distributions for title_length\n",
    "mean_title_leng = sample_stats_df.title_length[1]\n",
    "median_title_leng = sample_stats_df.title_length[5]\n",
    "mode_title_leng = stats.mode(title_leng)[0][0]\n",
    "\n",
    "print(\"Mode:\", mode_title_leng)\n",
    "\n",
    "plt.hist(title_leng, bins = 13, color = \"tab:orange\")\n",
    "plt.axvline(mean_title_leng, label = \"Mean\", ls = \"--\", c = \"tab:blue\")\n",
    "plt.axvline(median_title_leng, label = \"Median\", ls = \"--\", c = \"tab:green\")\n",
    "plt.axvline(mode_title_leng, label = \"Mode\", ls = \"--\", c = \"tab:red\")\n",
    "plt.title(\"Figure 1. Sample distribution of English books' title length\")\n",
    "plt.xlabel(\"Number of words\")\n",
    "plt.ylabel(\"Count\")\n",
    "plt.legend()\n",
    "plt.show()"
   ]
  },
  {
   "cell_type": "code",
   "execution_count": 10,
   "metadata": {},
   "outputs": [
    {
     "name": "stdout",
     "output_type": "stream",
     "text": [
      "Mode: 4.07\n"
     ]
    },
    {
     "data": {
      "image/png": "[encoded data removed]",
      "text/plain": [
       "<Figure size 432x288 with 1 Axes>"
      ]
     },
     "metadata": {
      "needs_background": "light"
     },
     "output_type": "display_data"
    }
   ],
   "source": [
    "#draw sample distribution for average_rating\n",
    "mean_avg_rating = sample_stats_df.average_rating[1]\n",
    "median_avg_rating = sample_stats_df.average_rating[5]\n",
    "mode_avg_rating = stats.mode(df.average_rating)[0][0]\n",
    "\n",
    "print(\"Mode:\", mode_avg_rating)\n",
    "\n",
    "plt.hist(df.average_rating, bins = 13, color = \"tab:orange\")\n",
    "plt.axvline(mean_avg_rating, label = \"Mean\", ls = \"--\", c = \"tab:blue\")\n",
    "plt.axvline(median_avg_rating, label = \"Median\", ls = \"--\", c = \"tab:green\")\n",
    "plt.axvline(mode_avg_rating, label = \"Mode\", ls = \"--\", c = \"tab:red\")\n",
    "plt.title(\"Figure 2. Sample distribution of English books' average rating\")\n",
    "plt.xlabel(\"Average rating\")\n",
    "plt.ylabel(\"Count\")\n",
    "plt.legend()\n",
    "plt.show()"
   ]
  },
  {
   "cell_type": "markdown",
   "metadata": {},
   "source": [
    "# Hypotheses\n",
    "\n",
    "Because medians are relatively resistant to outliers, we choose the median of `title_length` as a baseline to define short and long titles. With median = 6.0, it splits the sample into subgroups of short-titled books (<6 words) and long-titled books (≥6 words). \n",
    "\n",
    "We perform the significance test for the difference of means to address whether ratings are different for English books with long titles versus short titles. Since the question concerns any difference regardless of direction, it necessitates two-sided tests, which make inferences about the population means of two subgroups, formulated as the following:\n",
    "\n",
    "- Null hypothesis: There is no difference in average rating for English books with short (<6 words) and long titles (≥6 words). \n",
    "\n",
    "$$H_0: \\mu_{\\text{long-titled book rating}} - \\mu_{\\text{short-titled book rating}} = 0$$\n",
    "\n",
    "- Alternative hypothesis: There is a difference in average rating for English books with short (<6 words) and long titles (≥6 words). \n",
    "\n",
    "$$H_A: \\mu_{\\text{long-titled book rating}} - \\mu_{\\text{short-titled book rating}} \\neq 0$$\n",
    "\n",
    "Since there are no known risks for making Type I or Type 2 errors, we set the significance level, the probability of making Type I error, to the default $\\alpha = 0.05$. Bonferroni correction is unnecessary because it performs only one test on the sample. "
   ]
  },
  {
   "cell_type": "markdown",
   "metadata": {},
   "source": [
    "# Subgroups Summary Statistics"
   ]
  },
  {
   "cell_type": "code",
   "execution_count": 11,
   "metadata": {},
   "outputs": [],
   "source": [
    "short_tit_df = df[df.title_length < median_title_leng].reset_index(drop = True)\n",
    "long_tit_df = df[df.title_length >= median_title_leng].reset_index(drop = True)\n",
    "\n",
    "short_tit_rating = list(short_tit_df.average_rating)\n",
    "long_tit_rating = list(long_tit_df.average_rating)"
   ]
  },
  {
   "cell_type": "code",
   "execution_count": 12,
   "metadata": {},
   "outputs": [
    {
     "data": {
      "text/html": [
       "<div>\n",
       "<style scoped>\n",
       "    .dataframe tbody tr th:only-of-type {\n",
       "        vertical-align: middle;\n",
       "    }\n",
       "\n",
       "    .dataframe tbody tr th {\n",
       "        vertical-align: top;\n",
       "    }\n",
       "\n",
       "    .dataframe thead th {\n",
       "        text-align: right;\n",
       "    }\n",
       "</style>\n",
       "<table border=\"1\" class=\"dataframe\">\n",
       "  <thead>\n",
       "    <tr style=\"text-align: right;\">\n",
       "      <th></th>\n",
       "      <th>short-titled_book_rating</th>\n",
       "      <th>long-titled_book_rating</th>\n",
       "    </tr>\n",
       "  </thead>\n",
       "  <tbody>\n",
       "    <tr>\n",
       "      <th>Count</th>\n",
       "      <td>94.0000</td>\n",
       "      <td>95.0000</td>\n",
       "    </tr>\n",
       "    <tr>\n",
       "      <th>Mean</th>\n",
       "      <td>3.8904</td>\n",
       "      <td>3.9941</td>\n",
       "    </tr>\n",
       "    <tr>\n",
       "      <th>Median</th>\n",
       "      <td>3.9700</td>\n",
       "      <td>4.0000</td>\n",
       "    </tr>\n",
       "    <tr>\n",
       "      <th>Mode</th>\n",
       "      <td>3.8400</td>\n",
       "      <td>3.7900</td>\n",
       "    </tr>\n",
       "    <tr>\n",
       "      <th>SD</th>\n",
       "      <td>0.2826</td>\n",
       "      <td>0.2929</td>\n",
       "    </tr>\n",
       "    <tr>\n",
       "      <th>Range</th>\n",
       "      <td>1.4400</td>\n",
       "      <td>2.0200</td>\n",
       "    </tr>\n",
       "  </tbody>\n",
       "</table>\n",
       "</div>"
      ],
      "text/plain": [
       "        short-titled_book_rating  long-titled_book_rating\n",
       "Count                    94.0000                  95.0000\n",
       "Mean                      3.8904                   3.9941\n",
       "Median                    3.9700                   4.0000\n",
       "Mode                      3.8400                   3.7900\n",
       "SD                        0.2826                   0.2929\n",
       "Range                     1.4400                   2.0200"
      ]
     },
     "execution_count": 12,
     "metadata": {},
     "output_type": "execute_result"
    }
   ],
   "source": [
    "def get_mode(lst):\n",
    "    '''\n",
    "     #scipy.stats.mode returns an array of modes and their corresponding occurences. \n",
    "     Here we only need the mode number, so [0][0] is used to get that mode.\n",
    "\n",
    "    '''\n",
    "    return stats.mode(lst)[0][0]\n",
    "   \n",
    "def get_std(lst):\n",
    "    return np.std(lst, ddof = 1) \n",
    "    #ddof = 1 signifies that we're using the sample SD formula (using n-1) \n",
    "\n",
    "def get_range(lst):\n",
    "    return np.max(lst) - np.min(lst)\n",
    "\n",
    "def descriptive_stats(data_lst, label_lst):\n",
    "    stats = {\"Count\": [len(data) for data in data_lst],\n",
    "             \"Mean\": [np.mean(data) for data in data_lst], \n",
    "             \"Median\": [np.median(data) for data in data_lst],\n",
    "             \"Mode\": [get_mode(data) for data in data_lst],\n",
    "             \"SD\" : [get_std(data) for data in data_lst],\n",
    "             \"Range\": [get_range(data) for data in data_lst]}\n",
    "    \n",
    "    #create dataframe from the dictionary for neat display\n",
    "    stats_df = pd.DataFrame.from_dict(stats, orient = 'index', columns = label_lst)\n",
    "    return stats_df\n",
    "\n",
    "stats_df = descriptive_stats([short_tit_rating, long_tit_rating], \n",
    "                             [\"short-titled_book_rating\", \"long-titled_book_rating\"])\n",
    "\n",
    "roundn(stats_df) #round every number in the dataframe to 4 decimal places"
   ]
  },
  {
   "cell_type": "code",
   "execution_count": 13,
   "metadata": {},
   "outputs": [
    {
     "data": {
      "image/png": "[encoded data removed]",
      "text/plain": [
       "<Figure size 864x360 with 2 Axes>"
      ]
     },
     "metadata": {
      "needs_background": "light"
     },
     "output_type": "display_data"
    }
   ],
   "source": [
    "num_bins = 7\n",
    "subgroups = [short_tit_rating, long_tit_rating]\n",
    "labels = [\"Figure 3. English books with short title\", \n",
    "          \"Figure 4. English books with long title\"]\n",
    "\n",
    "def draw_double_hist(num_bins, x_axis, data_lst, titles_lst):\n",
    "    #create a plotting area with 2 figure placeholders that share x- and y-axis\n",
    "    fig, axs = plt.subplots(1, 2, figsize=(12,5), \n",
    "                            sharex = True, sharey = True)\n",
    "    \n",
    "    #draw two histograms with similar anatomies\n",
    "    for i in range(2):\n",
    "        data = data_lst[i]\n",
    "        axs[i].hist(data, bins = num_bins, color = \"tab:orange\")\n",
    "        axs[i].axvline(np.mean(data), \n",
    "                       c = \"tab:blue\", ls = \"--\", label = \"Mean\")\n",
    "        axs[i].axvline(np.median(data), \n",
    "                       c = \"tab:green\", ls = \"--\", label = \"Median\")\n",
    "        axs[i].axvline(get_mode(data), \n",
    "                       c = \"tab:red\", ls = \"--\", label = \"Mode\")\n",
    "        axs[i].legend()\n",
    "        axs[i].title.set_text(titles_lst[i])\n",
    "    \n",
    "    #set labels for x- and y-axis for both histograms\n",
    "    for ax in axs.flat:\n",
    "        ax.set(xlabel = x_axis, ylabel = 'Frequency')\n",
    "\n",
    "draw_double_hist(num_bins, \"Average rating\", subgroups, labels)"
   ]
  },
  {
   "cell_type": "markdown",
   "metadata": {},
   "source": [
    "# Statistical Testing\n",
    "\n",
    "## Conditions for Inference\n",
    "Since the population standard deviation is unknown, sample standard deviation is used to estimate the standard error for the difference of means. It necessitates the use of t-distribution to model the corresponding sampling distribution. Before proceeding with this choice, conditions for t-distribution approximation must be met:\n",
    "\n",
    "- **Randomness**: Data for subgroups come from the same random sample.\n",
    "- **Independence**: Data in each subgroup are sampled without replacement, but with size <10% of the population of English books on Goodreads, so it's fine to assume independence. Each book in one subgroup is unrelated to another in the other, so subgroups are likely unpaired. Therefore, data are *approximately* independent within and between subgroups. \n",
    "- **Normality**: Both subgroups have over 30 data points (sample size > 90). Distributions in figures 3 and 4 show no extreme outliers; in fact, they are relatively normal, therefore we may assume the same about the population. \n",
    "\n",
    "As these conditions are met, the Central Limit Theorem ensures the sampling distribution of the difference in means would be approximately normal, possibly resulting in over- or under-estimating the difference of means between subgroups.\n",
    "\n",
    "## Difference of Means Test\n",
    "After confirming conditions for inference, we compute statistical and practical inference for a difference of means test, with steps and results carried out below."
   ]
  },
  {
   "cell_type": "code",
   "execution_count": 14,
   "metadata": {},
   "outputs": [
    {
     "data": {
      "text/plain": [
       "{'SE': 0.0419,\n",
       " 't-score': 2.4764,\n",
       " 'df': 93,\n",
       " 'p-value': 0.0151,\n",
       " 'pooled SD': 0.2878,\n",
       " \"Cohen's d\": 0.3602,\n",
       " \"Hedge's g\": 0.3588}"
      ]
     },
     "execution_count": 14,
     "metadata": {},
     "output_type": "execute_result"
    }
   ],
   "source": [
    "alpha = 0.05 #significance level\n",
    "\n",
    "def difference_of_means_test(data1,data2, num_tails):\n",
    "    #calculate sample size, mean, standard deviations for two datasets\n",
    "    n1, n2 = len(data1), len(data2)\n",
    "    x1, x2 = np.mean(data1), np.mean(data2)\n",
    "    s1, s2 = get_std(data1), get_std(data2)\n",
    "\n",
    "    #calculate SE to get t-score \n",
    "    standard_error = np.sqrt(s1**2/n1 + s2**2/n2)\n",
    "    tscore = (x2 - x1)/ standard_error\n",
    "    degree_of_freedom = min(n1, n2) - 1 #conservative estimate\n",
    "    \n",
    "    #convert t-score and its df to p-value\n",
    "    pvalue = num_tails * stats.t.sf(abs(tscore), degree_of_freedom)\n",
    "\n",
    "    pooled_SD = np.sqrt((s1**2*(n1-1) + s2**2*(n2-1))/(n1+n2-2)) # OpenIntro section 5.3.6\n",
    "    cohensd = (x2 - x1)/pooled_SD\n",
    "    hedgesg = cohensd * (1 - 3/(4*n1 + 4*n2 - 9))\n",
    "    \n",
    "    significance_dict = {\"SE\": roundn(standard_error), \n",
    "                         \"t-score\" : roundn(tscore), \n",
    "                         \"df\": degree_of_freedom,\n",
    "                         \"p-value\": roundn(pvalue), \n",
    "                         \"pooled SD\": roundn(pooled_SD),\n",
    "                         \"Cohen's d\": roundn(cohensd),\n",
    "                         \"Hedge's g\": roundn(hedgesg)}\n",
    "    return significance_dict\n",
    "\n",
    "significance_dict = difference_of_means_test(short_tit_rating, long_tit_rating, 2)\n",
    "significance_dict"
   ]
  },
  {
   "cell_type": "code",
   "execution_count": 15,
   "metadata": {},
   "outputs": [
    {
     "data": {
      "text/plain": [
       "'reject null hypothesis'"
      ]
     },
     "execution_count": 15,
     "metadata": {},
     "output_type": "execute_result"
    }
   ],
   "source": [
    "def assess_stats_significance(significance_level, pvalue):\n",
    "    if pvalue < significance_level:\n",
    "        return \"reject null hypothesis\"\n",
    "    else:\n",
    "        return \"fail to reject null hypothesis\"\n",
    "\n",
    "assess_stats_significance(alpha, significance_dict['p-value'])"
   ]
  },
  {
   "cell_type": "markdown",
   "metadata": {},
   "source": [
    "Because $p\\approx0.0151 < \\alpha=0.05$, the significance level, we reject the null hypothesis and conclude the data favors the alternative hypothesis: \n",
    "\n",
    "> There is indeed EVIDENCE FOR a difference in ratings for English books with long (≥ 6 words) and short titles (<6 words) on Goodreads. \n",
    "    \n",
    "However, a measure of effect size is needed to assess practical significance. When the sample sizes for subgroups are reasonably large (>90), the correction effect of $\\text{Hedge’s } g$ for $\\text{Cohen’s } d$ is less noticeable than when sample sizes are small (<30). Therefore, we use $\\text{Cohen’s } d$ as our measure."
   ]
  },
  {
   "cell_type": "code",
   "execution_count": 16,
   "metadata": {},
   "outputs": [
    {
     "data": {
      "text/plain": [
       "'small size effect'"
      ]
     },
     "execution_count": 16,
     "metadata": {},
     "output_type": "execute_result"
    }
   ],
   "source": [
    "def assess_practical_significance(effect_size):\n",
    "    effect_size = abs(effect_size)\n",
    "    if effect_size > 0.8:\n",
    "        return \"large size effect\"\n",
    "    elif effect_size > 0.5:\n",
    "        return \"medium size effect\"\n",
    "    else:\n",
    "        return \"small size effect\"\n",
    "    \n",
    "assess_practical_significance(significance_dict[\"Cohen's d\"])"
   ]
  },
  {
   "cell_type": "markdown",
   "metadata": {},
   "source": [
    "As calculated, $\\text{Cohen’s } d \\approx 0.3602$, which signifies a small effect size.\n",
    "\n",
    "> This effect size shows that the average ratings of long-titled English books are slightly higher than those of short-titled books."
   ]
  },
  {
   "cell_type": "markdown",
   "metadata": {},
   "source": [
    "## Confidence Interval for Difference of Means"
   ]
  },
  {
   "cell_type": "code",
   "execution_count": 21,
   "metadata": {},
   "outputs": [],
   "source": [
    "confidence_lv = 1 - alpha\n",
    "                       \n",
    "def single_mean_ci(confidence_level, data):\n",
    "    sample_size = len(data)\n",
    "    sample_mean = np.mean(data)\n",
    "    sample_SD = get_std(data)\n",
    "    \n",
    "    #calculate t-score from the confidence level and its degrees of freedom\n",
    "    degree_of_freedom = sample_size - 1\n",
    "    percentile = 1 - (1 - confidence_level)/ 2 #area under the curve excludes the right tail\n",
    "    tscore = stats.t.ppf(percentile, degree_of_freedom)\n",
    "    \n",
    "    #calculate the SE for sample mean and ME \n",
    "    standard_error = sample_SD / (sample_size ** 0.5)\n",
    "    margin_of_error = tscore * standard_error\n",
    "    \n",
    "    low_bound = roundn(sample_mean - margin_of_error)\n",
    "    high_bound = roundn(sample_mean + margin_of_error)\n",
    "    \n",
    "    return np.array([low_bound, high_bound])"
   ]
  },
  {
   "cell_type": "markdown",
   "metadata": {},
   "source": [
    "For intervals of subgroups, we can be 95% confident that each population mean of average rating would fall into the corresponding range. "
   ]
  },
  {
   "cell_type": "code",
   "execution_count": 25,
   "metadata": {},
   "outputs": [
    {
     "name": "stdout",
     "output_type": "stream",
     "text": [
      "Confidence interval for short-titled books: [3.8325 3.9483]\n"
     ]
    }
   ],
   "source": [
    "ci_short = single_mean_ci(confidence_lv, short_tit_rating)\n",
    "print(f'Confidence interval for short-titled books: {ci_short}')"
   ]
  },
  {
   "cell_type": "code",
   "execution_count": 29,
   "metadata": {},
   "outputs": [
    {
     "name": "stdout",
     "output_type": "stream",
     "text": [
      "Confidence interval for long-titled books: [3.9344 4.0538]\n"
     ]
    }
   ],
   "source": [
    "ci_long = single_mean_ci(confidence_lv, long_tit_rating)\n",
    "print(f'Confidence interval for long-titled books: {ci_long}')"
   ]
  },
  {
   "cell_type": "code",
   "execution_count": 30,
   "metadata": {},
   "outputs": [
    {
     "name": "stdout",
     "output_type": "stream",
     "text": [
      "Confidence interval for diffence in means: [0.1019 0.1055]\n"
     ]
    }
   ],
   "source": [
    "diff_means_ci = ci_long - ci_short\n",
    "print(f'Confidence interval for diffence in means: {diff_means_ci}')"
   ]
  },
  {
   "cell_type": "markdown",
   "metadata": {},
   "source": [
    "This confidence interval for difference in means contains 0, the null value for no difference, which agrees with statistical test conducted above."
   ]
  },
  {
   "cell_type": "markdown",
   "metadata": {},
   "source": [
    "# Conclusion \n",
    "\n",
    "Based on the results for statistical and practical significance test for the average rating between subgroups ($p=0.0151, d=0.3602$), there's evidence to suggest that the average ratings of long-titled English books listed on Goodreads are slightly higher than those of short-titled books."
   ]
  }
 ],
 "metadata": {
  "kernelspec": {
   "display_name": "Python 3 (ipykernel)",
   "language": "python",
   "name": "python3"
  },
  "language_info": {
   "codemirror_mode": {
    "name": "ipython",
    "version": 3
   },
   "file_extension": ".py",
   "mimetype": "text/x-python",
   "name": "python",
   "nbconvert_exporter": "python",
   "pygments_lexer": "ipython3",
   "version": "3.9.7"
  }
 },
 "nbformat": 4,
 "nbformat_minor": 4
}
